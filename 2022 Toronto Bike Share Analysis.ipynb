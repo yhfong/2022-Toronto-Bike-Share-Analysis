{
 "cells": [
  {
   "cell_type": "markdown",
   "id": "e0bf7e1d",
   "metadata": {},
   "source": [
    "# 2022 Toronto Bike Share Analysis"
   ]
  },
  {
   "cell_type": "markdown",
   "id": "c5fd0b54",
   "metadata": {},
   "source": [
    "### Scenairo and the task"
   ]
  },
  {
   "cell_type": "markdown",
   "id": "78990bfd",
   "metadata": {},
   "source": [
    "We are under a scenario to be working on the marketing analyst team at Bike Share Toronto. The director of marketing believes the company’s future success depends on maximizing the number of annual memberships. Therefore, our team wants to understand how casual riders and annual members use the bikes differently. From these insights, our team will design a new marketing strategy to convert casual riders into annual members. We need to present our idea backed up with compelling data insights and professional data visualizations."
   ]
  },
  {
   "cell_type": "markdown",
   "id": "642c9813",
   "metadata": {},
   "source": [
    "## Ask:"
   ]
  },
  {
   "cell_type": "markdown",
   "id": "09804083",
   "metadata": {},
   "source": [
    "We are instructed to analyse the past 12 months data obtained to design marketing strategies aimed at converting casual riders into annual members."
   ]
  },
  {
   "cell_type": "markdown",
   "id": "d1ae12e3",
   "metadata": {},
   "source": [
    "Three questions will guide the future marketing program:\n",
    "1. How do annual members and casual riders use share bikes differently?\n",
    "2. Why would casual riders buy annual memberships?\n",
    "3. How can the company use digital media to influence casual riders to become members?"
   ]
  },
  {
   "cell_type": "markdown",
   "id": "864640ad",
   "metadata": {},
   "source": [
    "## Prepare:"
   ]
  },
  {
   "cell_type": "markdown",
   "id": "496048cc",
   "metadata": {},
   "source": [
    "Here is all the library we will use in this project."
   ]
  },
  {
   "cell_type": "code",
   "execution_count": 1,
   "id": "ee164877",
   "metadata": {},
   "outputs": [],
   "source": [
    "import pandas as pd\n",
    "import os\n",
    "import re\n",
    "import datetime\n",
    "import requests\n",
    "import json"
   ]
  },
  {
   "cell_type": "markdown",
   "id": "b8d7c8fc",
   "metadata": {},
   "source": [
    "We will use the specific public data set: __[Bike Share Toronto Ridership Data](https://open.toronto.ca/dataset/bike-share-toronto-ridership-data/)__ downloaded and proceed the analyze procress."
   ]
  },
  {
   "cell_type": "markdown",
   "id": "b59bd884",
   "metadata": {},
   "source": [
    "All the data is sperated by monthly and there are totally 12 *csv* file downloaded from the above path. We then create two dataset to store the absolute path and the table name."
   ]
  },
  {
   "cell_type": "code",
   "execution_count": 2,
   "id": "1321e375",
   "metadata": {},
   "outputs": [
    {
     "name": "stdout",
     "output_type": "stream",
     "text": [
      "[['2022-01'], ['2022-02'], ['2022-03'], ['2022-04'], ['2022-05'], ['2022-06'], ['2022-07'], ['2022-08'], ['2022-09'], ['2022-10'], ['2022-11'], ['2022-12']]\n"
     ]
    }
   ],
   "source": [
    "path = \"/Users/michaelfong/Desktop/Bikeshare analysis/bikeshare-ridership-2022\"\n",
    "\n",
    "data_list=[]\n",
    "tablename_list=[]\n",
    "for infile in os.listdir(path):\n",
    "    if os.path.splitext(infile)[1]==\".csv\":\n",
    "        data_list.append(os.path.abspath(path)+\"/\"+infile)\n",
    "        name=re.findall(r\"[\\d-]+\", os.path.splitext(infile)[0])\n",
    "        tablename_list.append(name)\n",
    "\n",
    "data_list.sort()\n",
    "tablename_list.sort()\n",
    "\n",
    "print(tablename_list)"
   ]
  },
  {
   "cell_type": "markdown",
   "id": "deb5917f",
   "metadata": {},
   "source": [
    "Then we have a function to load all the data inside by the `Panda` module with the `pd.read_csv` command."
   ]
  },
  {
   "cell_type": "code",
   "execution_count": 3,
   "id": "83a683c7",
   "metadata": {},
   "outputs": [],
   "source": [
    "def read_csv(data_list, tablename_list):\n",
    "    total = 0\n",
    "    for i in range(len(data_list)):\n",
    "        tablename_list[i] = pd.read_csv(data_list[i])"
   ]
  },
  {
   "cell_type": "code",
   "execution_count": 4,
   "id": "8405e180",
   "metadata": {},
   "outputs": [
    {
     "name": "stdout",
     "output_type": "stream",
     "text": [
      "There are total 12 files read.\n"
     ]
    }
   ],
   "source": [
    "read_csv(data_list, tablename_list)\n",
    "print(f\"There are total {len(tablename_list)} files read.\")"
   ]
  },
  {
   "cell_type": "code",
   "execution_count": 5,
   "id": "7de0e906",
   "metadata": {},
   "outputs": [
    {
     "data": {
      "text/html": [
       "<div>\n",
       "<style scoped>\n",
       "    .dataframe tbody tr th:only-of-type {\n",
       "        vertical-align: middle;\n",
       "    }\n",
       "\n",
       "    .dataframe tbody tr th {\n",
       "        vertical-align: top;\n",
       "    }\n",
       "\n",
       "    .dataframe thead th {\n",
       "        text-align: right;\n",
       "    }\n",
       "</style>\n",
       "<table border=\"1\" class=\"dataframe\">\n",
       "  <thead>\n",
       "    <tr style=\"text-align: right;\">\n",
       "      <th></th>\n",
       "      <th>Trip Id</th>\n",
       "      <th>Trip  Duration</th>\n",
       "      <th>Start Station Id</th>\n",
       "      <th>Start Time</th>\n",
       "      <th>Start Station Name</th>\n",
       "      <th>End Station Id</th>\n",
       "      <th>End Time</th>\n",
       "      <th>End Station Name</th>\n",
       "      <th>Bike Id</th>\n",
       "      <th>User Type</th>\n",
       "    </tr>\n",
       "  </thead>\n",
       "  <tbody>\n",
       "    <tr>\n",
       "      <th>0</th>\n",
       "      <td>14805109</td>\n",
       "      <td>4335</td>\n",
       "      <td>7334</td>\n",
       "      <td>01/01/2022 00:02</td>\n",
       "      <td>Simcoe St / Wellington St North</td>\n",
       "      <td>7269.0</td>\n",
       "      <td>01/01/2022 01:15</td>\n",
       "      <td>Toronto Eaton Centre (Yonge St)</td>\n",
       "      <td>5139</td>\n",
       "      <td>Casual Member</td>\n",
       "    </tr>\n",
       "    <tr>\n",
       "      <th>1</th>\n",
       "      <td>14805110</td>\n",
       "      <td>126</td>\n",
       "      <td>7443</td>\n",
       "      <td>01/01/2022 00:02</td>\n",
       "      <td>Dundas St E / George St</td>\n",
       "      <td>7270.0</td>\n",
       "      <td>01/01/2022 00:05</td>\n",
       "      <td>Church St / Dundas St E - SMART</td>\n",
       "      <td>3992</td>\n",
       "      <td>Annual Member</td>\n",
       "    </tr>\n",
       "    <tr>\n",
       "      <th>2</th>\n",
       "      <td>14805112</td>\n",
       "      <td>942</td>\n",
       "      <td>7399</td>\n",
       "      <td>01/01/2022 00:04</td>\n",
       "      <td>Lower Jarvis / Queens Quay E</td>\n",
       "      <td>7686.0</td>\n",
       "      <td>01/01/2022 00:19</td>\n",
       "      <td>NaN</td>\n",
       "      <td>361</td>\n",
       "      <td>Annual Member</td>\n",
       "    </tr>\n",
       "    <tr>\n",
       "      <th>3</th>\n",
       "      <td>14805113</td>\n",
       "      <td>4256</td>\n",
       "      <td>7334</td>\n",
       "      <td>01/01/2022 00:04</td>\n",
       "      <td>Simcoe St / Wellington St North</td>\n",
       "      <td>7269.0</td>\n",
       "      <td>01/01/2022 01:15</td>\n",
       "      <td>Toronto Eaton Centre (Yonge St)</td>\n",
       "      <td>4350</td>\n",
       "      <td>Casual Member</td>\n",
       "    </tr>\n",
       "    <tr>\n",
       "      <th>4</th>\n",
       "      <td>14805114</td>\n",
       "      <td>4353</td>\n",
       "      <td>7334</td>\n",
       "      <td>01/01/2022 00:05</td>\n",
       "      <td>Simcoe St / Wellington St North</td>\n",
       "      <td>7038.0</td>\n",
       "      <td>01/01/2022 01:17</td>\n",
       "      <td>Dundas St W / Yonge St</td>\n",
       "      <td>5074</td>\n",
       "      <td>Casual Member</td>\n",
       "    </tr>\n",
       "  </tbody>\n",
       "</table>\n",
       "</div>"
      ],
      "text/plain": [
       "    Trip Id  Trip  Duration  Start Station Id        Start Time  \\\n",
       "0  14805109            4335              7334  01/01/2022 00:02   \n",
       "1  14805110             126              7443  01/01/2022 00:02   \n",
       "2  14805112             942              7399  01/01/2022 00:04   \n",
       "3  14805113            4256              7334  01/01/2022 00:04   \n",
       "4  14805114            4353              7334  01/01/2022 00:05   \n",
       "\n",
       "                Start Station Name  End Station Id          End Time  \\\n",
       "0  Simcoe St / Wellington St North          7269.0  01/01/2022 01:15   \n",
       "1          Dundas St E / George St          7270.0  01/01/2022 00:05   \n",
       "2     Lower Jarvis / Queens Quay E          7686.0  01/01/2022 00:19   \n",
       "3  Simcoe St / Wellington St North          7269.0  01/01/2022 01:15   \n",
       "4  Simcoe St / Wellington St North          7038.0  01/01/2022 01:17   \n",
       "\n",
       "                  End Station Name  Bike Id      User Type  \n",
       "0  Toronto Eaton Centre (Yonge St)     5139  Casual Member  \n",
       "1  Church St / Dundas St E - SMART     3992  Annual Member  \n",
       "2                              NaN      361  Annual Member  \n",
       "3  Toronto Eaton Centre (Yonge St)     4350  Casual Member  \n",
       "4           Dundas St W / Yonge St     5074  Casual Member  "
      ]
     },
     "execution_count": 5,
     "metadata": {},
     "output_type": "execute_result"
    }
   ],
   "source": [
    "tablename_list[0].head()"
   ]
  },
  {
   "cell_type": "markdown",
   "id": "00096a0d",
   "metadata": {},
   "source": [
    "Now, we have 12 dataset loaded and we can start the process for data cleaning."
   ]
  },
  {
   "cell_type": "markdown",
   "id": "cad6dcaf",
   "metadata": {},
   "source": [
    "## Process:"
   ]
  },
  {
   "cell_type": "markdown",
   "id": "781fe732",
   "metadata": {},
   "source": [
    "### Change Date into international Standard Format"
   ]
  },
  {
   "cell_type": "markdown",
   "id": "379e432a",
   "metadata": {},
   "source": [
    "As notice that the date format for all the dataset is not match the standard `YYYY-MM-DD HH:MM` international standard. Therefore we have a function toperform the transformation by `datetime` library in Python as follow."
   ]
  },
  {
   "cell_type": "code",
   "execution_count": 6,
   "id": "5435ce3a",
   "metadata": {
    "scrolled": true
   },
   "outputs": [],
   "source": [
    "def store_date_list(df):\n",
    "    st_list = []\n",
    "    et_list = []\n",
    "\n",
    "    for i in range(len(df)):\n",
    "        tst = df.iloc[i][\"Start Time\"]\n",
    "        st = datetime.datetime.strptime(tst,\"%m/%d/%Y %H:%M\")\n",
    "        st_list.append(datetime.date.strftime(st,\"%Y-%m-%d %H:%M\"))\n",
    "        tet = df.iloc[i][\"End Time\"]\n",
    "        et = datetime.datetime.strptime(tet,\"%m/%d/%Y %H:%M\")\n",
    "        et_list.append(datetime.date.strftime(et,\"%Y-%m-%d %H:%M\"))\n",
    "        \n",
    "    for i in range(len(df)):\n",
    "        df.loc[i, ['Start Time']]=st_list[i]\n",
    "        df.loc[i, ['End Time']]=et_list[i]"
   ]
  },
  {
   "cell_type": "markdown",
   "id": "970c9ab2",
   "metadata": {},
   "source": [
    "As the size of the data is a little bit large, it takes long time for the processing. Therfore, we perform the transformation for each month separatedly. So, we run the 12 lists as follow:"
   ]
  },
  {
   "cell_type": "code",
   "execution_count": 7,
   "id": "63da411b",
   "metadata": {},
   "outputs": [
    {
     "name": "stdout",
     "output_type": "stream",
     "text": [
      "<class 'pandas.core.frame.DataFrame'>\n",
      "RangeIndex: 56765 entries, 0 to 56764\n",
      "Data columns (total 10 columns):\n",
      " #   Column              Non-Null Count  Dtype  \n",
      "---  ------              --------------  -----  \n",
      " 0   Trip Id             56765 non-null  int64  \n",
      " 1   Trip  Duration      56765 non-null  int64  \n",
      " 2   Start Station Id    56765 non-null  int64  \n",
      " 3   Start Time          56765 non-null  object \n",
      " 4   Start Station Name  56195 non-null  object \n",
      " 5   End Station Id      56649 non-null  float64\n",
      " 6   End Time            56765 non-null  object \n",
      " 7   End Station Name    56017 non-null  object \n",
      " 8   Bike Id             56765 non-null  int64  \n",
      " 9   User Type           56765 non-null  object \n",
      "dtypes: float64(1), int64(4), object(5)\n",
      "memory usage: 4.3+ MB\n"
     ]
    }
   ],
   "source": [
    "store_date_list(tablename_list[0])\n",
    "tablename_list[0].info()"
   ]
  },
  {
   "cell_type": "code",
   "execution_count": 8,
   "id": "0361f64e",
   "metadata": {},
   "outputs": [
    {
     "name": "stdout",
     "output_type": "stream",
     "text": [
      "<class 'pandas.core.frame.DataFrame'>\n",
      "RangeIndex: 67010 entries, 0 to 67009\n",
      "Data columns (total 10 columns):\n",
      " #   Column              Non-Null Count  Dtype  \n",
      "---  ------              --------------  -----  \n",
      " 0   Trip Id             67010 non-null  int64  \n",
      " 1   Trip  Duration      67010 non-null  int64  \n",
      " 2   Start Station Id    67010 non-null  int64  \n",
      " 3   Start Time          67010 non-null  object \n",
      " 4   Start Station Name  66411 non-null  object \n",
      " 5   End Station Id      66959 non-null  float64\n",
      " 6   End Time            67010 non-null  object \n",
      " 7   End Station Name    66276 non-null  object \n",
      " 8   Bike Id             67010 non-null  int64  \n",
      " 9   User Type           67010 non-null  object \n",
      "dtypes: float64(1), int64(4), object(5)\n",
      "memory usage: 5.1+ MB\n"
     ]
    }
   ],
   "source": [
    "store_date_list(tablename_list[1])\n",
    "tablename_list[1].info()"
   ]
  },
  {
   "cell_type": "code",
   "execution_count": 9,
   "id": "bd06a497",
   "metadata": {},
   "outputs": [
    {
     "name": "stdout",
     "output_type": "stream",
     "text": [
      "<class 'pandas.core.frame.DataFrame'>\n",
      "RangeIndex: 151938 entries, 0 to 151937\n",
      "Data columns (total 10 columns):\n",
      " #   Column              Non-Null Count   Dtype  \n",
      "---  ------              --------------   -----  \n",
      " 0   Trip Id             151938 non-null  int64  \n",
      " 1   Trip  Duration      151938 non-null  int64  \n",
      " 2   Start Station Id    151938 non-null  int64  \n",
      " 3   Start Time          151938 non-null  object \n",
      " 4   Start Station Name  150228 non-null  object \n",
      " 5   End Station Id      151892 non-null  float64\n",
      " 6   End Time            151938 non-null  object \n",
      " 7   End Station Name    149981 non-null  object \n",
      " 8   Bike Id             151938 non-null  int64  \n",
      " 9   User Type           151938 non-null  object \n",
      "dtypes: float64(1), int64(4), object(5)\n",
      "memory usage: 11.6+ MB\n"
     ]
    }
   ],
   "source": [
    "store_date_list(tablename_list[2])\n",
    "tablename_list[2].info()"
   ]
  },
  {
   "cell_type": "code",
   "execution_count": 10,
   "id": "5dfd5a14",
   "metadata": {},
   "outputs": [
    {
     "name": "stdout",
     "output_type": "stream",
     "text": [
      "<class 'pandas.core.frame.DataFrame'>\n",
      "RangeIndex: 245920 entries, 0 to 245919\n",
      "Data columns (total 10 columns):\n",
      " #   Column              Non-Null Count   Dtype  \n",
      "---  ------              --------------   -----  \n",
      " 0   Trip Id             245920 non-null  int64  \n",
      " 1   Trip  Duration      245920 non-null  int64  \n",
      " 2   Start Station Id    245920 non-null  int64  \n",
      " 3   Start Time          245920 non-null  object \n",
      " 4   Start Station Name  241505 non-null  object \n",
      " 5   End Station Id      245877 non-null  float64\n",
      " 6   End Time            245920 non-null  object \n",
      " 7   End Station Name    241372 non-null  object \n",
      " 8   Bike Id             245920 non-null  int64  \n",
      " 9   User Type           245920 non-null  object \n",
      "dtypes: float64(1), int64(4), object(5)\n",
      "memory usage: 18.8+ MB\n"
     ]
    }
   ],
   "source": [
    "store_date_list(tablename_list[3])\n",
    "tablename_list[3].info()"
   ]
  },
  {
   "cell_type": "code",
   "execution_count": 11,
   "id": "3363549e",
   "metadata": {},
   "outputs": [
    {
     "name": "stdout",
     "output_type": "stream",
     "text": [
      "<class 'pandas.core.frame.DataFrame'>\n",
      "RangeIndex: 504926 entries, 0 to 504925\n",
      "Data columns (total 10 columns):\n",
      " #   Column              Non-Null Count   Dtype  \n",
      "---  ------              --------------   -----  \n",
      " 0   Trip Id             504926 non-null  int64  \n",
      " 1   Trip  Duration      504926 non-null  int64  \n",
      " 2   Start Station Id    504926 non-null  int64  \n",
      " 3   Start Time          504926 non-null  object \n",
      " 4   Start Station Name  493119 non-null  object \n",
      " 5   End Station Id      504842 non-null  float64\n",
      " 6   End Time            504926 non-null  object \n",
      " 7   End Station Name    492700 non-null  object \n",
      " 8   Bike Id             504926 non-null  int64  \n",
      " 9   User Type           504926 non-null  object \n",
      "dtypes: float64(1), int64(4), object(5)\n",
      "memory usage: 38.5+ MB\n"
     ]
    }
   ],
   "source": [
    "store_date_list(tablename_list[4])\n",
    "tablename_list[4].info()"
   ]
  },
  {
   "cell_type": "code",
   "execution_count": 12,
   "id": "282cf2f1",
   "metadata": {},
   "outputs": [
    {
     "name": "stdout",
     "output_type": "stream",
     "text": [
      "<class 'pandas.core.frame.DataFrame'>\n",
      "RangeIndex: 605645 entries, 0 to 605644\n",
      "Data columns (total 10 columns):\n",
      " #   Column              Non-Null Count   Dtype  \n",
      "---  ------              --------------   -----  \n",
      " 0   Trip Id             605645 non-null  int64  \n",
      " 1   Trip  Duration      605645 non-null  int64  \n",
      " 2   Start Station Id    605645 non-null  int64  \n",
      " 3   Start Time          605645 non-null  object \n",
      " 4   Start Station Name  587693 non-null  object \n",
      " 5   End Station Id      605524 non-null  float64\n",
      " 6   End Time            605645 non-null  object \n",
      " 7   End Station Name    587275 non-null  object \n",
      " 8   Bike Id             605645 non-null  int64  \n",
      " 9   User Type           605645 non-null  object \n",
      "dtypes: float64(1), int64(4), object(5)\n",
      "memory usage: 46.2+ MB\n"
     ]
    }
   ],
   "source": [
    "store_date_list(tablename_list[5])\n",
    "tablename_list[5].info()"
   ]
  },
  {
   "cell_type": "code",
   "execution_count": 13,
   "id": "c1e566c0",
   "metadata": {},
   "outputs": [
    {
     "name": "stdout",
     "output_type": "stream",
     "text": [
      "<class 'pandas.core.frame.DataFrame'>\n",
      "RangeIndex: 680308 entries, 0 to 680307\n",
      "Data columns (total 10 columns):\n",
      " #   Column              Non-Null Count   Dtype  \n",
      "---  ------              --------------   -----  \n",
      " 0   Trip Id             680308 non-null  int64  \n",
      " 1   Trip  Duration      680308 non-null  int64  \n",
      " 2   Start Station Id    680308 non-null  int64  \n",
      " 3   Start Time          680308 non-null  object \n",
      " 4   Start Station Name  657662 non-null  object \n",
      " 5   End Station Id      680204 non-null  float64\n",
      " 6   End Time            680308 non-null  object \n",
      " 7   End Station Name    657330 non-null  object \n",
      " 8   Bike Id             680308 non-null  int64  \n",
      " 9   User Type           680308 non-null  object \n",
      "dtypes: float64(1), int64(4), object(5)\n",
      "memory usage: 51.9+ MB\n"
     ]
    }
   ],
   "source": [
    "store_date_list(tablename_list[6])\n",
    "tablename_list[6].info()"
   ]
  },
  {
   "cell_type": "code",
   "execution_count": 14,
   "id": "ffae30b4",
   "metadata": {},
   "outputs": [
    {
     "name": "stdout",
     "output_type": "stream",
     "text": [
      "<class 'pandas.core.frame.DataFrame'>\n",
      "RangeIndex: 705150 entries, 0 to 705149\n",
      "Data columns (total 10 columns):\n",
      " #   Column              Non-Null Count   Dtype  \n",
      "---  ------              --------------   -----  \n",
      " 0   Trip Id             705150 non-null  int64  \n",
      " 1   Trip  Duration      705150 non-null  int64  \n",
      " 2   Start Station Id    705150 non-null  int64  \n",
      " 3   Start Time          705150 non-null  object \n",
      " 4   Start Station Name  672386 non-null  object \n",
      " 5   End Station Id      705020 non-null  float64\n",
      " 6   End Time            705150 non-null  object \n",
      " 7   End Station Name    672375 non-null  object \n",
      " 8   Bike Id             705150 non-null  int64  \n",
      " 9   User Type           705150 non-null  object \n",
      "dtypes: float64(1), int64(4), object(5)\n",
      "memory usage: 53.8+ MB\n"
     ]
    }
   ],
   "source": [
    "store_date_list(tablename_list[7])\n",
    "tablename_list[7].info()"
   ]
  },
  {
   "cell_type": "code",
   "execution_count": 15,
   "id": "01861192",
   "metadata": {},
   "outputs": [
    {
     "name": "stdout",
     "output_type": "stream",
     "text": [
      "<class 'pandas.core.frame.DataFrame'>\n",
      "RangeIndex: 602817 entries, 0 to 602816\n",
      "Data columns (total 10 columns):\n",
      " #   Column              Non-Null Count   Dtype  \n",
      "---  ------              --------------   -----  \n",
      " 0   Trip Id             602817 non-null  int64  \n",
      " 1   Trip  Duration      602817 non-null  int64  \n",
      " 2   Start Station Id    602817 non-null  int64  \n",
      " 3   Start Time          602817 non-null  object \n",
      " 4   Start Station Name  570504 non-null  object \n",
      " 5   End Station Id      602667 non-null  float64\n",
      " 6   End Time            602817 non-null  object \n",
      " 7   End Station Name    570461 non-null  object \n",
      " 8   Bike Id             602817 non-null  int64  \n",
      " 9   User Type           602817 non-null  object \n",
      "dtypes: float64(1), int64(4), object(5)\n",
      "memory usage: 46.0+ MB\n"
     ]
    }
   ],
   "source": [
    "store_date_list(tablename_list[8])\n",
    "tablename_list[8].info()"
   ]
  },
  {
   "cell_type": "code",
   "execution_count": 16,
   "id": "dfb80bdf",
   "metadata": {},
   "outputs": [
    {
     "name": "stdout",
     "output_type": "stream",
     "text": [
      "<class 'pandas.core.frame.DataFrame'>\n",
      "RangeIndex: 499751 entries, 0 to 499750\n",
      "Data columns (total 10 columns):\n",
      " #   Column              Non-Null Count   Dtype  \n",
      "---  ------              --------------   -----  \n",
      " 0   Trip Id             499751 non-null  int64  \n",
      " 1   Trip  Duration      499751 non-null  int64  \n",
      " 2   Start Station Id    499751 non-null  int64  \n",
      " 3   Start Time          499751 non-null  object \n",
      " 4   Start Station Name  471821 non-null  object \n",
      " 5   End Station Id      499570 non-null  float64\n",
      " 6   End Time            499751 non-null  object \n",
      " 7   End Station Name    472205 non-null  object \n",
      " 8   Bike Id             499751 non-null  int64  \n",
      " 9   User Type           499751 non-null  object \n",
      "dtypes: float64(1), int64(4), object(5)\n",
      "memory usage: 38.1+ MB\n"
     ]
    }
   ],
   "source": [
    "store_date_list(tablename_list[9])\n",
    "tablename_list[9].info()"
   ]
  },
  {
   "cell_type": "code",
   "execution_count": 17,
   "id": "35a373ce",
   "metadata": {},
   "outputs": [
    {
     "name": "stdout",
     "output_type": "stream",
     "text": [
      "<class 'pandas.core.frame.DataFrame'>\n",
      "RangeIndex: 320229 entries, 0 to 320228\n",
      "Data columns (total 10 columns):\n",
      " #   Column              Non-Null Count   Dtype  \n",
      "---  ------              --------------   -----  \n",
      " 0   Trip Id             320229 non-null  int64  \n",
      " 1   Trip  Duration      320229 non-null  int64  \n",
      " 2   Start Station Id    320229 non-null  int64  \n",
      " 3   Start Time          320229 non-null  object \n",
      " 4   Start Station Name  300542 non-null  object \n",
      " 5   End Station Id      320069 non-null  float64\n",
      " 6   End Time            320229 non-null  object \n",
      " 7   End Station Name    300798 non-null  object \n",
      " 8   Bike Id             320229 non-null  int64  \n",
      " 9   User Type           320229 non-null  object \n",
      "dtypes: float64(1), int64(4), object(5)\n",
      "memory usage: 24.4+ MB\n"
     ]
    }
   ],
   "source": [
    "store_date_list(tablename_list[10])\n",
    "tablename_list[10].info()"
   ]
  },
  {
   "cell_type": "code",
   "execution_count": 18,
   "id": "4a96efd7",
   "metadata": {},
   "outputs": [
    {
     "name": "stdout",
     "output_type": "stream",
     "text": [
      "<class 'pandas.core.frame.DataFrame'>\n",
      "RangeIndex: 180010 entries, 0 to 180009\n",
      "Data columns (total 10 columns):\n",
      " #   Column              Non-Null Count   Dtype  \n",
      "---  ------              --------------   -----  \n",
      " 0   Trip Id             180010 non-null  int64  \n",
      " 1   Trip  Duration      180010 non-null  int64  \n",
      " 2   Start Station Id    180010 non-null  int64  \n",
      " 3   Start Time          180010 non-null  object \n",
      " 4   Start Station Name  168937 non-null  object \n",
      " 5   End Station Id      179917 non-null  float64\n",
      " 6   End Time            180010 non-null  object \n",
      " 7   End Station Name    168713 non-null  object \n",
      " 8   Bike Id             180010 non-null  int64  \n",
      " 9   User Type           180010 non-null  object \n",
      "dtypes: float64(1), int64(4), object(5)\n",
      "memory usage: 13.7+ MB\n"
     ]
    }
   ],
   "source": [
    "store_date_list(tablename_list[11])\n",
    "tablename_list[11].info()"
   ]
  },
  {
   "cell_type": "markdown",
   "id": "a1edc4e5",
   "metadata": {},
   "source": [
    "After changing the date format, we combine all 12 data list into one as follow:"
   ]
  },
  {
   "cell_type": "code",
   "execution_count": 19,
   "id": "21f1f60a",
   "metadata": {},
   "outputs": [],
   "source": [
    "bikeshare_2022=pd.concat(tablename_list)"
   ]
  },
  {
   "cell_type": "code",
   "execution_count": 20,
   "id": "0ec03384",
   "metadata": {},
   "outputs": [
    {
     "name": "stdout",
     "output_type": "stream",
     "text": [
      "<class 'pandas.core.frame.DataFrame'>\n",
      "Int64Index: 4620469 entries, 0 to 180009\n",
      "Data columns (total 10 columns):\n",
      " #   Column              Dtype  \n",
      "---  ------              -----  \n",
      " 0   Trip Id             int64  \n",
      " 1   Trip  Duration      int64  \n",
      " 2   Start Station Id    int64  \n",
      " 3   Start Time          object \n",
      " 4   Start Station Name  object \n",
      " 5   End Station Id      float64\n",
      " 6   End Time            object \n",
      " 7   End Station Name    object \n",
      " 8   Bike Id             int64  \n",
      " 9   User Type           object \n",
      "dtypes: float64(1), int64(4), object(5)\n",
      "memory usage: 387.8+ MB\n"
     ]
    }
   ],
   "source": [
    "bikeshare_2022.info()"
   ]
  },
  {
   "cell_type": "markdown",
   "id": "64ec7ab2",
   "metadata": {},
   "source": [
    "### Data Cleaning "
   ]
  },
  {
   "cell_type": "markdown",
   "id": "d723dcdc",
   "metadata": {},
   "source": [
    "We now perform the data cleanng as follow. We check the name and Id for the start and end station if there are null values."
   ]
  },
  {
   "cell_type": "code",
   "execution_count": 21,
   "id": "cb353fd2",
   "metadata": {
    "scrolled": false
   },
   "outputs": [
    {
     "data": {
      "text/html": [
       "<div>\n",
       "<style scoped>\n",
       "    .dataframe tbody tr th:only-of-type {\n",
       "        vertical-align: middle;\n",
       "    }\n",
       "\n",
       "    .dataframe tbody tr th {\n",
       "        vertical-align: top;\n",
       "    }\n",
       "\n",
       "    .dataframe thead th {\n",
       "        text-align: right;\n",
       "    }\n",
       "</style>\n",
       "<table border=\"1\" class=\"dataframe\">\n",
       "  <thead>\n",
       "    <tr style=\"text-align: right;\">\n",
       "      <th></th>\n",
       "      <th>Trip Id</th>\n",
       "      <th>Trip  Duration</th>\n",
       "      <th>Start Station Id</th>\n",
       "      <th>Start Time</th>\n",
       "      <th>Start Station Name</th>\n",
       "      <th>End Station Id</th>\n",
       "      <th>End Time</th>\n",
       "      <th>End Station Name</th>\n",
       "      <th>Bike Id</th>\n",
       "      <th>User Type</th>\n",
       "    </tr>\n",
       "  </thead>\n",
       "  <tbody>\n",
       "  </tbody>\n",
       "</table>\n",
       "</div>"
      ],
      "text/plain": [
       "Empty DataFrame\n",
       "Columns: [Trip Id, Trip  Duration, Start Station Id, Start Time, Start Station Name, End Station Id, End Time, End Station Name, Bike Id, User Type]\n",
       "Index: []"
      ]
     },
     "execution_count": 21,
     "metadata": {},
     "output_type": "execute_result"
    }
   ],
   "source": [
    "bikeshare_2022[bikeshare_2022[\"Start Station Id\"].isna()]"
   ]
  },
  {
   "cell_type": "code",
   "execution_count": 22,
   "id": "00bd932f",
   "metadata": {
    "scrolled": true
   },
   "outputs": [
    {
     "data": {
      "text/html": [
       "<div>\n",
       "<style scoped>\n",
       "    .dataframe tbody tr th:only-of-type {\n",
       "        vertical-align: middle;\n",
       "    }\n",
       "\n",
       "    .dataframe tbody tr th {\n",
       "        vertical-align: top;\n",
       "    }\n",
       "\n",
       "    .dataframe thead th {\n",
       "        text-align: right;\n",
       "    }\n",
       "</style>\n",
       "<table border=\"1\" class=\"dataframe\">\n",
       "  <thead>\n",
       "    <tr style=\"text-align: right;\">\n",
       "      <th></th>\n",
       "      <th>Trip Id</th>\n",
       "      <th>Trip  Duration</th>\n",
       "      <th>Start Station Id</th>\n",
       "      <th>Start Time</th>\n",
       "      <th>Start Station Name</th>\n",
       "      <th>End Station Id</th>\n",
       "      <th>End Time</th>\n",
       "      <th>End Station Name</th>\n",
       "      <th>Bike Id</th>\n",
       "      <th>User Type</th>\n",
       "    </tr>\n",
       "  </thead>\n",
       "  <tbody>\n",
       "    <tr>\n",
       "      <th>2355</th>\n",
       "      <td>14807785</td>\n",
       "      <td>0</td>\n",
       "      <td>7048</td>\n",
       "      <td>2022-01-01 17:38</td>\n",
       "      <td>Front St W / Yonge St (Hockey Hall of Fame)</td>\n",
       "      <td>NaN</td>\n",
       "      <td>2022-01-01 17:38</td>\n",
       "      <td>NaN</td>\n",
       "      <td>6609</td>\n",
       "      <td>Casual Member</td>\n",
       "    </tr>\n",
       "    <tr>\n",
       "      <th>2947</th>\n",
       "      <td>14808557</td>\n",
       "      <td>0</td>\n",
       "      <td>7028</td>\n",
       "      <td>2022-01-02 08:24</td>\n",
       "      <td>Gould St / Mutual St</td>\n",
       "      <td>NaN</td>\n",
       "      <td>2022-01-02 08:24</td>\n",
       "      <td>NaN</td>\n",
       "      <td>6112</td>\n",
       "      <td>Annual Member</td>\n",
       "    </tr>\n",
       "    <tr>\n",
       "      <th>3046</th>\n",
       "      <td>14808671</td>\n",
       "      <td>0</td>\n",
       "      <td>7506</td>\n",
       "      <td>2022-01-02 11:30</td>\n",
       "      <td>Berkeley St / Adelaide St E - SMART</td>\n",
       "      <td>NaN</td>\n",
       "      <td>2022-01-02 11:30</td>\n",
       "      <td>NaN</td>\n",
       "      <td>551</td>\n",
       "      <td>Annual Member</td>\n",
       "    </tr>\n",
       "    <tr>\n",
       "      <th>3517</th>\n",
       "      <td>14809197</td>\n",
       "      <td>0</td>\n",
       "      <td>7030</td>\n",
       "      <td>2022-01-02 17:01</td>\n",
       "      <td>Bay St / Wellesley St W</td>\n",
       "      <td>NaN</td>\n",
       "      <td>2022-01-02 17:01</td>\n",
       "      <td>NaN</td>\n",
       "      <td>2940</td>\n",
       "      <td>Annual Member</td>\n",
       "    </tr>\n",
       "    <tr>\n",
       "      <th>3688</th>\n",
       "      <td>14809384</td>\n",
       "      <td>0</td>\n",
       "      <td>7057</td>\n",
       "      <td>2022-01-02 18:40</td>\n",
       "      <td>Simcoe St / Wellington St South</td>\n",
       "      <td>NaN</td>\n",
       "      <td>2022-01-02 18:40</td>\n",
       "      <td>NaN</td>\n",
       "      <td>6330</td>\n",
       "      <td>Annual Member</td>\n",
       "    </tr>\n",
       "    <tr>\n",
       "      <th>...</th>\n",
       "      <td>...</td>\n",
       "      <td>...</td>\n",
       "      <td>...</td>\n",
       "      <td>...</td>\n",
       "      <td>...</td>\n",
       "      <td>...</td>\n",
       "      <td>...</td>\n",
       "      <td>...</td>\n",
       "      <td>...</td>\n",
       "      <td>...</td>\n",
       "    </tr>\n",
       "    <tr>\n",
       "      <th>176294</th>\n",
       "      <td>20144421</td>\n",
       "      <td>0</td>\n",
       "      <td>7333</td>\n",
       "      <td>2022-12-30 18:36</td>\n",
       "      <td>King St E / Victoria St</td>\n",
       "      <td>NaN</td>\n",
       "      <td>2022-12-30 18:36</td>\n",
       "      <td>NaN</td>\n",
       "      <td>153</td>\n",
       "      <td>Casual Member</td>\n",
       "    </tr>\n",
       "    <tr>\n",
       "      <th>177078</th>\n",
       "      <td>20145403</td>\n",
       "      <td>0</td>\n",
       "      <td>7000</td>\n",
       "      <td>2022-12-31 03:22</td>\n",
       "      <td>Fort York  Blvd / Capreol Ct</td>\n",
       "      <td>NaN</td>\n",
       "      <td>2022-12-31 03:22</td>\n",
       "      <td>NaN</td>\n",
       "      <td>2302</td>\n",
       "      <td>Casual Member</td>\n",
       "    </tr>\n",
       "    <tr>\n",
       "      <th>179174</th>\n",
       "      <td>20147866</td>\n",
       "      <td>0</td>\n",
       "      <td>7020</td>\n",
       "      <td>2022-12-31 19:54</td>\n",
       "      <td>Phoebe St / Spadina Ave</td>\n",
       "      <td>NaN</td>\n",
       "      <td>2022-12-31 19:54</td>\n",
       "      <td>NaN</td>\n",
       "      <td>1337</td>\n",
       "      <td>Casual Member</td>\n",
       "    </tr>\n",
       "    <tr>\n",
       "      <th>179333</th>\n",
       "      <td>20148038</td>\n",
       "      <td>0</td>\n",
       "      <td>7407</td>\n",
       "      <td>2022-12-31 20:46</td>\n",
       "      <td>University Ave / Queen St W</td>\n",
       "      <td>NaN</td>\n",
       "      <td>2022-12-31 20:46</td>\n",
       "      <td>NaN</td>\n",
       "      <td>936</td>\n",
       "      <td>Casual Member</td>\n",
       "    </tr>\n",
       "    <tr>\n",
       "      <th>179865</th>\n",
       "      <td>20148619</td>\n",
       "      <td>0</td>\n",
       "      <td>7089</td>\n",
       "      <td>2022-12-31 23:32</td>\n",
       "      <td>Church St  / Wood St</td>\n",
       "      <td>NaN</td>\n",
       "      <td>2022-12-31 23:32</td>\n",
       "      <td>NaN</td>\n",
       "      <td>5982</td>\n",
       "      <td>Casual Member</td>\n",
       "    </tr>\n",
       "  </tbody>\n",
       "</table>\n",
       "<p>1279 rows × 10 columns</p>\n",
       "</div>"
      ],
      "text/plain": [
       "         Trip Id  Trip  Duration  Start Station Id        Start Time  \\\n",
       "2355    14807785               0              7048  2022-01-01 17:38   \n",
       "2947    14808557               0              7028  2022-01-02 08:24   \n",
       "3046    14808671               0              7506  2022-01-02 11:30   \n",
       "3517    14809197               0              7030  2022-01-02 17:01   \n",
       "3688    14809384               0              7057  2022-01-02 18:40   \n",
       "...          ...             ...               ...               ...   \n",
       "176294  20144421               0              7333  2022-12-30 18:36   \n",
       "177078  20145403               0              7000  2022-12-31 03:22   \n",
       "179174  20147866               0              7020  2022-12-31 19:54   \n",
       "179333  20148038               0              7407  2022-12-31 20:46   \n",
       "179865  20148619               0              7089  2022-12-31 23:32   \n",
       "\n",
       "                                 Start Station Name  End Station Id  \\\n",
       "2355    Front St W / Yonge St (Hockey Hall of Fame)             NaN   \n",
       "2947                           Gould St / Mutual St             NaN   \n",
       "3046            Berkeley St / Adelaide St E - SMART             NaN   \n",
       "3517                        Bay St / Wellesley St W             NaN   \n",
       "3688                Simcoe St / Wellington St South             NaN   \n",
       "...                                             ...             ...   \n",
       "176294                      King St E / Victoria St             NaN   \n",
       "177078                 Fort York  Blvd / Capreol Ct             NaN   \n",
       "179174                      Phoebe St / Spadina Ave             NaN   \n",
       "179333                  University Ave / Queen St W             NaN   \n",
       "179865                         Church St  / Wood St             NaN   \n",
       "\n",
       "                End Time End Station Name  Bike Id      User Type  \n",
       "2355    2022-01-01 17:38              NaN     6609  Casual Member  \n",
       "2947    2022-01-02 08:24              NaN     6112  Annual Member  \n",
       "3046    2022-01-02 11:30              NaN      551  Annual Member  \n",
       "3517    2022-01-02 17:01              NaN     2940  Annual Member  \n",
       "3688    2022-01-02 18:40              NaN     6330  Annual Member  \n",
       "...                  ...              ...      ...            ...  \n",
       "176294  2022-12-30 18:36              NaN      153  Casual Member  \n",
       "177078  2022-12-31 03:22              NaN     2302  Casual Member  \n",
       "179174  2022-12-31 19:54              NaN     1337  Casual Member  \n",
       "179333  2022-12-31 20:46              NaN      936  Casual Member  \n",
       "179865  2022-12-31 23:32              NaN     5982  Casual Member  \n",
       "\n",
       "[1279 rows x 10 columns]"
      ]
     },
     "execution_count": 22,
     "metadata": {},
     "output_type": "execute_result"
    }
   ],
   "source": [
    "bikeshare_2022[bikeshare_2022[\"End Station Id\"].isna()]"
   ]
  },
  {
   "cell_type": "code",
   "execution_count": 23,
   "id": "570fb4d0",
   "metadata": {
    "scrolled": true
   },
   "outputs": [
    {
     "data": {
      "text/html": [
       "<div>\n",
       "<style scoped>\n",
       "    .dataframe tbody tr th:only-of-type {\n",
       "        vertical-align: middle;\n",
       "    }\n",
       "\n",
       "    .dataframe tbody tr th {\n",
       "        vertical-align: top;\n",
       "    }\n",
       "\n",
       "    .dataframe thead th {\n",
       "        text-align: right;\n",
       "    }\n",
       "</style>\n",
       "<table border=\"1\" class=\"dataframe\">\n",
       "  <thead>\n",
       "    <tr style=\"text-align: right;\">\n",
       "      <th></th>\n",
       "      <th>Trip Id</th>\n",
       "      <th>Trip  Duration</th>\n",
       "      <th>Start Station Id</th>\n",
       "      <th>Start Time</th>\n",
       "      <th>Start Station Name</th>\n",
       "      <th>End Station Id</th>\n",
       "      <th>End Time</th>\n",
       "      <th>End Station Name</th>\n",
       "      <th>Bike Id</th>\n",
       "      <th>User Type</th>\n",
       "    </tr>\n",
       "  </thead>\n",
       "  <tbody>\n",
       "    <tr>\n",
       "      <th>50</th>\n",
       "      <td>14805164</td>\n",
       "      <td>1245</td>\n",
       "      <td>7684</td>\n",
       "      <td>2022-01-01 00:23</td>\n",
       "      <td>NaN</td>\n",
       "      <td>7274.0</td>\n",
       "      <td>2022-01-01 00:44</td>\n",
       "      <td>Queen's Park Cres E / Grosvenor St - SMART</td>\n",
       "      <td>6839</td>\n",
       "      <td>Annual Member</td>\n",
       "    </tr>\n",
       "    <tr>\n",
       "      <th>155</th>\n",
       "      <td>14805280</td>\n",
       "      <td>1158</td>\n",
       "      <td>7683</td>\n",
       "      <td>2022-01-01 01:06</td>\n",
       "      <td>NaN</td>\n",
       "      <td>7002.0</td>\n",
       "      <td>2022-01-01 01:25</td>\n",
       "      <td>St. George St / Bloor St W</td>\n",
       "      <td>5505</td>\n",
       "      <td>Annual Member</td>\n",
       "    </tr>\n",
       "    <tr>\n",
       "      <th>177</th>\n",
       "      <td>14805305</td>\n",
       "      <td>136</td>\n",
       "      <td>7684</td>\n",
       "      <td>2022-01-01 01:18</td>\n",
       "      <td>NaN</td>\n",
       "      <td>7067.0</td>\n",
       "      <td>2022-01-01 01:20</td>\n",
       "      <td>Yonge St / Harbour St</td>\n",
       "      <td>2958</td>\n",
       "      <td>Annual Member</td>\n",
       "    </tr>\n",
       "    <tr>\n",
       "      <th>194</th>\n",
       "      <td>14805333</td>\n",
       "      <td>1374</td>\n",
       "      <td>7685</td>\n",
       "      <td>2022-01-01 01:33</td>\n",
       "      <td>NaN</td>\n",
       "      <td>7144.0</td>\n",
       "      <td>2022-01-01 01:56</td>\n",
       "      <td>Palmerston Ave / Vermont Ave</td>\n",
       "      <td>4149</td>\n",
       "      <td>Annual Member</td>\n",
       "    </tr>\n",
       "    <tr>\n",
       "      <th>243</th>\n",
       "      <td>14805399</td>\n",
       "      <td>284</td>\n",
       "      <td>7687</td>\n",
       "      <td>2022-01-01 02:06</td>\n",
       "      <td>NaN</td>\n",
       "      <td>7205.0</td>\n",
       "      <td>2022-01-01 02:11</td>\n",
       "      <td>Rusholme Park Cres / College St</td>\n",
       "      <td>3308</td>\n",
       "      <td>Annual Member</td>\n",
       "    </tr>\n",
       "    <tr>\n",
       "      <th>...</th>\n",
       "      <td>...</td>\n",
       "      <td>...</td>\n",
       "      <td>...</td>\n",
       "      <td>...</td>\n",
       "      <td>...</td>\n",
       "      <td>...</td>\n",
       "      <td>...</td>\n",
       "      <td>...</td>\n",
       "      <td>...</td>\n",
       "      <td>...</td>\n",
       "    </tr>\n",
       "    <tr>\n",
       "      <th>179955</th>\n",
       "      <td>20148712</td>\n",
       "      <td>2426</td>\n",
       "      <td>7730</td>\n",
       "      <td>2022-12-31 23:44</td>\n",
       "      <td>NaN</td>\n",
       "      <td>7073.0</td>\n",
       "      <td>2023-01-01 00:25</td>\n",
       "      <td>Spadina Ave / Fort York Blvd</td>\n",
       "      <td>5101</td>\n",
       "      <td>Casual Member</td>\n",
       "    </tr>\n",
       "    <tr>\n",
       "      <th>179999</th>\n",
       "      <td>20148769</td>\n",
       "      <td>769</td>\n",
       "      <td>7712</td>\n",
       "      <td>2022-12-31 23:54</td>\n",
       "      <td>NaN</td>\n",
       "      <td>7203.0</td>\n",
       "      <td>2023-01-01 00:07</td>\n",
       "      <td>Bathurst St/Queens Quay(Billy Bishop Airport)</td>\n",
       "      <td>6531</td>\n",
       "      <td>Casual Member</td>\n",
       "    </tr>\n",
       "    <tr>\n",
       "      <th>180001</th>\n",
       "      <td>20148771</td>\n",
       "      <td>733</td>\n",
       "      <td>7712</td>\n",
       "      <td>2022-12-31 23:55</td>\n",
       "      <td>NaN</td>\n",
       "      <td>7203.0</td>\n",
       "      <td>2023-01-01 00:07</td>\n",
       "      <td>Bathurst St/Queens Quay(Billy Bishop Airport)</td>\n",
       "      <td>3872</td>\n",
       "      <td>Casual Member</td>\n",
       "    </tr>\n",
       "    <tr>\n",
       "      <th>180004</th>\n",
       "      <td>20148774</td>\n",
       "      <td>1961</td>\n",
       "      <td>7706</td>\n",
       "      <td>2022-12-31 23:56</td>\n",
       "      <td>NaN</td>\n",
       "      <td>7677.0</td>\n",
       "      <td>2023-01-01 00:29</td>\n",
       "      <td>1303 Yonge St - SMART</td>\n",
       "      <td>3076</td>\n",
       "      <td>Annual Member</td>\n",
       "    </tr>\n",
       "    <tr>\n",
       "      <th>180007</th>\n",
       "      <td>20148777</td>\n",
       "      <td>469</td>\n",
       "      <td>7713</td>\n",
       "      <td>2022-12-31 23:58</td>\n",
       "      <td>NaN</td>\n",
       "      <td>7028.0</td>\n",
       "      <td>2023-01-01 00:06</td>\n",
       "      <td>Gould St / Mutual St</td>\n",
       "      <td>6306</td>\n",
       "      <td>Casual Member</td>\n",
       "    </tr>\n",
       "  </tbody>\n",
       "</table>\n",
       "<p>183466 rows × 10 columns</p>\n",
       "</div>"
      ],
      "text/plain": [
       "         Trip Id  Trip  Duration  Start Station Id        Start Time  \\\n",
       "50      14805164            1245              7684  2022-01-01 00:23   \n",
       "155     14805280            1158              7683  2022-01-01 01:06   \n",
       "177     14805305             136              7684  2022-01-01 01:18   \n",
       "194     14805333            1374              7685  2022-01-01 01:33   \n",
       "243     14805399             284              7687  2022-01-01 02:06   \n",
       "...          ...             ...               ...               ...   \n",
       "179955  20148712            2426              7730  2022-12-31 23:44   \n",
       "179999  20148769             769              7712  2022-12-31 23:54   \n",
       "180001  20148771             733              7712  2022-12-31 23:55   \n",
       "180004  20148774            1961              7706  2022-12-31 23:56   \n",
       "180007  20148777             469              7713  2022-12-31 23:58   \n",
       "\n",
       "       Start Station Name  End Station Id          End Time  \\\n",
       "50                    NaN          7274.0  2022-01-01 00:44   \n",
       "155                   NaN          7002.0  2022-01-01 01:25   \n",
       "177                   NaN          7067.0  2022-01-01 01:20   \n",
       "194                   NaN          7144.0  2022-01-01 01:56   \n",
       "243                   NaN          7205.0  2022-01-01 02:11   \n",
       "...                   ...             ...               ...   \n",
       "179955                NaN          7073.0  2023-01-01 00:25   \n",
       "179999                NaN          7203.0  2023-01-01 00:07   \n",
       "180001                NaN          7203.0  2023-01-01 00:07   \n",
       "180004                NaN          7677.0  2023-01-01 00:29   \n",
       "180007                NaN          7028.0  2023-01-01 00:06   \n",
       "\n",
       "                                     End Station Name  Bike Id      User Type  \n",
       "50         Queen's Park Cres E / Grosvenor St - SMART     6839  Annual Member  \n",
       "155                        St. George St / Bloor St W     5505  Annual Member  \n",
       "177                             Yonge St / Harbour St     2958  Annual Member  \n",
       "194                      Palmerston Ave / Vermont Ave     4149  Annual Member  \n",
       "243                   Rusholme Park Cres / College St     3308  Annual Member  \n",
       "...                                               ...      ...            ...  \n",
       "179955                   Spadina Ave / Fort York Blvd     5101  Casual Member  \n",
       "179999  Bathurst St/Queens Quay(Billy Bishop Airport)     6531  Casual Member  \n",
       "180001  Bathurst St/Queens Quay(Billy Bishop Airport)     3872  Casual Member  \n",
       "180004                          1303 Yonge St - SMART     3076  Annual Member  \n",
       "180007                           Gould St / Mutual St     6306  Casual Member  \n",
       "\n",
       "[183466 rows x 10 columns]"
      ]
     },
     "execution_count": 23,
     "metadata": {},
     "output_type": "execute_result"
    }
   ],
   "source": [
    "bikeshare_2022[bikeshare_2022[\"Start Station Name\"].isna()]"
   ]
  },
  {
   "cell_type": "code",
   "execution_count": 24,
   "id": "8ffebf3e",
   "metadata": {
    "scrolled": true
   },
   "outputs": [
    {
     "data": {
      "text/html": [
       "<div>\n",
       "<style scoped>\n",
       "    .dataframe tbody tr th:only-of-type {\n",
       "        vertical-align: middle;\n",
       "    }\n",
       "\n",
       "    .dataframe tbody tr th {\n",
       "        vertical-align: top;\n",
       "    }\n",
       "\n",
       "    .dataframe thead th {\n",
       "        text-align: right;\n",
       "    }\n",
       "</style>\n",
       "<table border=\"1\" class=\"dataframe\">\n",
       "  <thead>\n",
       "    <tr style=\"text-align: right;\">\n",
       "      <th></th>\n",
       "      <th>Trip Id</th>\n",
       "      <th>Trip  Duration</th>\n",
       "      <th>Start Station Id</th>\n",
       "      <th>Start Time</th>\n",
       "      <th>Start Station Name</th>\n",
       "      <th>End Station Id</th>\n",
       "      <th>End Time</th>\n",
       "      <th>End Station Name</th>\n",
       "      <th>Bike Id</th>\n",
       "      <th>User Type</th>\n",
       "    </tr>\n",
       "  </thead>\n",
       "  <tbody>\n",
       "    <tr>\n",
       "      <th>2</th>\n",
       "      <td>14805112</td>\n",
       "      <td>942</td>\n",
       "      <td>7399</td>\n",
       "      <td>2022-01-01 00:04</td>\n",
       "      <td>Lower Jarvis / Queens Quay E</td>\n",
       "      <td>7686.0</td>\n",
       "      <td>2022-01-01 00:19</td>\n",
       "      <td>NaN</td>\n",
       "      <td>361</td>\n",
       "      <td>Annual Member</td>\n",
       "    </tr>\n",
       "    <tr>\n",
       "      <th>159</th>\n",
       "      <td>14805284</td>\n",
       "      <td>3957</td>\n",
       "      <td>7418</td>\n",
       "      <td>2022-01-01 01:07</td>\n",
       "      <td>College Park - Yonge St Entrance</td>\n",
       "      <td>7685.0</td>\n",
       "      <td>2022-01-01 02:13</td>\n",
       "      <td>NaN</td>\n",
       "      <td>182</td>\n",
       "      <td>Casual Member</td>\n",
       "    </tr>\n",
       "    <tr>\n",
       "      <th>162</th>\n",
       "      <td>14805287</td>\n",
       "      <td>3894</td>\n",
       "      <td>7418</td>\n",
       "      <td>2022-01-01 01:08</td>\n",
       "      <td>College Park - Yonge St Entrance</td>\n",
       "      <td>7685.0</td>\n",
       "      <td>2022-01-01 02:13</td>\n",
       "      <td>NaN</td>\n",
       "      <td>4171</td>\n",
       "      <td>Casual Member</td>\n",
       "    </tr>\n",
       "    <tr>\n",
       "      <th>163</th>\n",
       "      <td>14805288</td>\n",
       "      <td>3887</td>\n",
       "      <td>7418</td>\n",
       "      <td>2022-01-01 01:08</td>\n",
       "      <td>College Park - Yonge St Entrance</td>\n",
       "      <td>7685.0</td>\n",
       "      <td>2022-01-01 02:13</td>\n",
       "      <td>NaN</td>\n",
       "      <td>4871</td>\n",
       "      <td>Casual Member</td>\n",
       "    </tr>\n",
       "    <tr>\n",
       "      <th>310</th>\n",
       "      <td>14805489</td>\n",
       "      <td>644</td>\n",
       "      <td>7072</td>\n",
       "      <td>2022-01-01 02:43</td>\n",
       "      <td>Fleet St / Bathurst St</td>\n",
       "      <td>7684.0</td>\n",
       "      <td>2022-01-01 02:54</td>\n",
       "      <td>NaN</td>\n",
       "      <td>6911</td>\n",
       "      <td>Casual Member</td>\n",
       "    </tr>\n",
       "    <tr>\n",
       "      <th>...</th>\n",
       "      <td>...</td>\n",
       "      <td>...</td>\n",
       "      <td>...</td>\n",
       "      <td>...</td>\n",
       "      <td>...</td>\n",
       "      <td>...</td>\n",
       "      <td>...</td>\n",
       "      <td>...</td>\n",
       "      <td>...</td>\n",
       "      <td>...</td>\n",
       "    </tr>\n",
       "    <tr>\n",
       "      <th>179975</th>\n",
       "      <td>20148733</td>\n",
       "      <td>913</td>\n",
       "      <td>7170</td>\n",
       "      <td>2022-12-31 23:47</td>\n",
       "      <td>Spadina Ave / Willcocks St</td>\n",
       "      <td>7757.0</td>\n",
       "      <td>2023-01-01 00:02</td>\n",
       "      <td>NaN</td>\n",
       "      <td>784</td>\n",
       "      <td>Casual Member</td>\n",
       "    </tr>\n",
       "    <tr>\n",
       "      <th>179977</th>\n",
       "      <td>20148735</td>\n",
       "      <td>681</td>\n",
       "      <td>7272</td>\n",
       "      <td>2022-12-31 23:47</td>\n",
       "      <td>Yonge St / Dundonald St - SMART</td>\n",
       "      <td>7713.0</td>\n",
       "      <td>2022-12-31 23:59</td>\n",
       "      <td>NaN</td>\n",
       "      <td>5321</td>\n",
       "      <td>Annual Member</td>\n",
       "    </tr>\n",
       "    <tr>\n",
       "      <th>179988</th>\n",
       "      <td>20148746</td>\n",
       "      <td>1012</td>\n",
       "      <td>7271</td>\n",
       "      <td>2022-12-31 23:51</td>\n",
       "      <td>Yonge St / Alexander St - SMART</td>\n",
       "      <td>7683.0</td>\n",
       "      <td>2023-01-01 00:08</td>\n",
       "      <td>NaN</td>\n",
       "      <td>412</td>\n",
       "      <td>Annual Member</td>\n",
       "    </tr>\n",
       "    <tr>\n",
       "      <th>179991</th>\n",
       "      <td>20148750</td>\n",
       "      <td>993</td>\n",
       "      <td>7271</td>\n",
       "      <td>2022-12-31 23:51</td>\n",
       "      <td>Yonge St / Alexander St - SMART</td>\n",
       "      <td>7683.0</td>\n",
       "      <td>2023-01-01 00:08</td>\n",
       "      <td>NaN</td>\n",
       "      <td>5548</td>\n",
       "      <td>Annual Member</td>\n",
       "    </tr>\n",
       "    <tr>\n",
       "      <th>179995</th>\n",
       "      <td>20148759</td>\n",
       "      <td>904</td>\n",
       "      <td>7271</td>\n",
       "      <td>2022-12-31 23:53</td>\n",
       "      <td>Yonge St / Alexander St - SMART</td>\n",
       "      <td>7683.0</td>\n",
       "      <td>2023-01-01 00:08</td>\n",
       "      <td>NaN</td>\n",
       "      <td>543</td>\n",
       "      <td>Annual Member</td>\n",
       "    </tr>\n",
       "  </tbody>\n",
       "</table>\n",
       "<p>184966 rows × 10 columns</p>\n",
       "</div>"
      ],
      "text/plain": [
       "         Trip Id  Trip  Duration  Start Station Id        Start Time  \\\n",
       "2       14805112             942              7399  2022-01-01 00:04   \n",
       "159     14805284            3957              7418  2022-01-01 01:07   \n",
       "162     14805287            3894              7418  2022-01-01 01:08   \n",
       "163     14805288            3887              7418  2022-01-01 01:08   \n",
       "310     14805489             644              7072  2022-01-01 02:43   \n",
       "...          ...             ...               ...               ...   \n",
       "179975  20148733             913              7170  2022-12-31 23:47   \n",
       "179977  20148735             681              7272  2022-12-31 23:47   \n",
       "179988  20148746            1012              7271  2022-12-31 23:51   \n",
       "179991  20148750             993              7271  2022-12-31 23:51   \n",
       "179995  20148759             904              7271  2022-12-31 23:53   \n",
       "\n",
       "                      Start Station Name  End Station Id          End Time  \\\n",
       "2           Lower Jarvis / Queens Quay E          7686.0  2022-01-01 00:19   \n",
       "159     College Park - Yonge St Entrance          7685.0  2022-01-01 02:13   \n",
       "162     College Park - Yonge St Entrance          7685.0  2022-01-01 02:13   \n",
       "163     College Park - Yonge St Entrance          7685.0  2022-01-01 02:13   \n",
       "310               Fleet St / Bathurst St          7684.0  2022-01-01 02:54   \n",
       "...                                  ...             ...               ...   \n",
       "179975        Spadina Ave / Willcocks St          7757.0  2023-01-01 00:02   \n",
       "179977   Yonge St / Dundonald St - SMART          7713.0  2022-12-31 23:59   \n",
       "179988   Yonge St / Alexander St - SMART          7683.0  2023-01-01 00:08   \n",
       "179991   Yonge St / Alexander St - SMART          7683.0  2023-01-01 00:08   \n",
       "179995   Yonge St / Alexander St - SMART          7683.0  2023-01-01 00:08   \n",
       "\n",
       "       End Station Name  Bike Id      User Type  \n",
       "2                   NaN      361  Annual Member  \n",
       "159                 NaN      182  Casual Member  \n",
       "162                 NaN     4171  Casual Member  \n",
       "163                 NaN     4871  Casual Member  \n",
       "310                 NaN     6911  Casual Member  \n",
       "...                 ...      ...            ...  \n",
       "179975              NaN      784  Casual Member  \n",
       "179977              NaN     5321  Annual Member  \n",
       "179988              NaN      412  Annual Member  \n",
       "179991              NaN     5548  Annual Member  \n",
       "179995              NaN      543  Annual Member  \n",
       "\n",
       "[184966 rows x 10 columns]"
      ]
     },
     "execution_count": 24,
     "metadata": {},
     "output_type": "execute_result"
    }
   ],
   "source": [
    "bikeshare_2022[bikeshare_2022[\"End Station Name\"].isna()]"
   ]
  },
  {
   "cell_type": "markdown",
   "id": "dd602706",
   "metadata": {},
   "source": [
    "We then clean the value without station Id."
   ]
  },
  {
   "cell_type": "code",
   "execution_count": 25,
   "id": "6b93f284",
   "metadata": {},
   "outputs": [],
   "source": [
    "bikeshare_2022_cleaned=bikeshare_2022[bikeshare_2022[\"End Station Id\"].notnull()]"
   ]
  },
  {
   "cell_type": "code",
   "execution_count": 26,
   "id": "f7bf7682",
   "metadata": {},
   "outputs": [
    {
     "name": "stdout",
     "output_type": "stream",
     "text": [
      "<class 'pandas.core.frame.DataFrame'>\n",
      "Int64Index: 4619190 entries, 0 to 180009\n",
      "Data columns (total 10 columns):\n",
      " #   Column              Dtype  \n",
      "---  ------              -----  \n",
      " 0   Trip Id             int64  \n",
      " 1   Trip  Duration      int64  \n",
      " 2   Start Station Id    int64  \n",
      " 3   Start Time          object \n",
      " 4   Start Station Name  object \n",
      " 5   End Station Id      float64\n",
      " 6   End Time            object \n",
      " 7   End Station Name    object \n",
      " 8   Bike Id             int64  \n",
      " 9   User Type           object \n",
      "dtypes: float64(1), int64(4), object(5)\n",
      "memory usage: 387.7+ MB\n"
     ]
    }
   ],
   "source": [
    "bikeshare_2022_cleaned.info()"
   ]
  },
  {
   "cell_type": "markdown",
   "id": "55ec494b",
   "metadata": {},
   "source": [
    "After that we further delete the column of `Start Station Name` and `End Station Name` as there all lots of null values. We will insert the data with joining the other dataset later."
   ]
  },
  {
   "cell_type": "code",
   "execution_count": 27,
   "id": "d901fbce",
   "metadata": {},
   "outputs": [],
   "source": [
    "bikeshare_2022_modified = bikeshare_2022_cleaned.drop(columns = ['Start Station Name', 'End Station Name'], axis=1)"
   ]
  },
  {
   "cell_type": "code",
   "execution_count": 28,
   "id": "66b4b412",
   "metadata": {},
   "outputs": [
    {
     "name": "stdout",
     "output_type": "stream",
     "text": [
      "<class 'pandas.core.frame.DataFrame'>\n",
      "Int64Index: 4619190 entries, 0 to 180009\n",
      "Data columns (total 8 columns):\n",
      " #   Column            Dtype  \n",
      "---  ------            -----  \n",
      " 0   Trip Id           int64  \n",
      " 1   Trip  Duration    int64  \n",
      " 2   Start Station Id  int64  \n",
      " 3   Start Time        object \n",
      " 4   End Station Id    float64\n",
      " 5   End Time          object \n",
      " 6   Bike Id           int64  \n",
      " 7   User Type         object \n",
      "dtypes: float64(1), int64(4), object(3)\n",
      "memory usage: 317.2+ MB\n"
     ]
    }
   ],
   "source": [
    "bikeshare_2022_modified.info()"
   ]
  },
  {
   "cell_type": "markdown",
   "id": "bc46b17e",
   "metadata": {},
   "source": [
    "Then we change the datatype for the `Start Station Id` and `End Station id` in order to perform the merge of dataset below."
   ]
  },
  {
   "cell_type": "code",
   "execution_count": 29,
   "id": "c0ac518d",
   "metadata": {},
   "outputs": [],
   "source": [
    "bikeshare_2022_modified['Start Station Id'] = bikeshare_2022_modified['Start Station Id'].astype(\"string\")\n",
    "bikeshare_2022_modified['End Station Id'] = bikeshare_2022_modified['End Station Id'].astype(\"int\")\n",
    "bikeshare_2022_modified['End Station Id'] = bikeshare_2022_modified['End Station Id'].astype(\"string\")"
   ]
  },
  {
   "cell_type": "code",
   "execution_count": 30,
   "id": "6878955d",
   "metadata": {
    "scrolled": true
   },
   "outputs": [
    {
     "name": "stdout",
     "output_type": "stream",
     "text": [
      "<class 'pandas.core.frame.DataFrame'>\n",
      "Int64Index: 4619190 entries, 0 to 180009\n",
      "Data columns (total 8 columns):\n",
      " #   Column            Dtype \n",
      "---  ------            ----- \n",
      " 0   Trip Id           int64 \n",
      " 1   Trip  Duration    int64 \n",
      " 2   Start Station Id  string\n",
      " 3   Start Time        object\n",
      " 4   End Station Id    string\n",
      " 5   End Time          object\n",
      " 6   Bike Id           int64 \n",
      " 7   User Type         object\n",
      "dtypes: int64(3), object(3), string(2)\n",
      "memory usage: 317.2+ MB\n"
     ]
    }
   ],
   "source": [
    "bikeshare_2022_modified.info()"
   ]
  },
  {
   "cell_type": "markdown",
   "id": "d346b5da",
   "metadata": {},
   "source": [
    "### Collect Station Data and merge dataset"
   ]
  },
  {
   "cell_type": "markdown",
   "id": "2954c879",
   "metadata": {},
   "source": [
    "As mentioned above, we found out that there are lots of null values for `Start Station Name` and `End Station Name`. So, we had deleted the two columns and only left the `Start Station Id` and `End Station Id` columns for index. Now, we obtain the full list of Toronto Bikeshare station Data including the geographic data (Latitude and Longitude for the stations) from the web by `Requests` module and loaded the data as a dataset by `Pandas` and `Json` modules as follow."
   ]
  },
  {
   "cell_type": "code",
   "execution_count": 31,
   "id": "77415fd0",
   "metadata": {
    "scrolled": true
   },
   "outputs": [
    {
     "data": {
      "text/html": [
       "<div>\n",
       "<style scoped>\n",
       "    .dataframe tbody tr th:only-of-type {\n",
       "        vertical-align: middle;\n",
       "    }\n",
       "\n",
       "    .dataframe tbody tr th {\n",
       "        vertical-align: top;\n",
       "    }\n",
       "\n",
       "    .dataframe thead th {\n",
       "        text-align: right;\n",
       "    }\n",
       "</style>\n",
       "<table border=\"1\" class=\"dataframe\">\n",
       "  <thead>\n",
       "    <tr style=\"text-align: right;\">\n",
       "      <th></th>\n",
       "      <th>station_id</th>\n",
       "      <th>name</th>\n",
       "      <th>lat</th>\n",
       "      <th>lon</th>\n",
       "    </tr>\n",
       "  </thead>\n",
       "  <tbody>\n",
       "    <tr>\n",
       "      <th>0</th>\n",
       "      <td>7000</td>\n",
       "      <td>Fort York  Blvd / Capreol Ct</td>\n",
       "      <td>43.639832</td>\n",
       "      <td>-79.395954</td>\n",
       "    </tr>\n",
       "    <tr>\n",
       "      <th>1</th>\n",
       "      <td>7001</td>\n",
       "      <td>Wellesley Station Green P</td>\n",
       "      <td>43.664964</td>\n",
       "      <td>-79.383550</td>\n",
       "    </tr>\n",
       "    <tr>\n",
       "      <th>2</th>\n",
       "      <td>7002</td>\n",
       "      <td>St. George St / Bloor St W</td>\n",
       "      <td>43.667333</td>\n",
       "      <td>-79.399429</td>\n",
       "    </tr>\n",
       "    <tr>\n",
       "      <th>3</th>\n",
       "      <td>7003</td>\n",
       "      <td>Madison Ave / Bloor St W</td>\n",
       "      <td>43.667158</td>\n",
       "      <td>-79.402761</td>\n",
       "    </tr>\n",
       "    <tr>\n",
       "      <th>4</th>\n",
       "      <td>7004</td>\n",
       "      <td>University Ave / Elm St</td>\n",
       "      <td>43.656518</td>\n",
       "      <td>-79.389099</td>\n",
       "    </tr>\n",
       "  </tbody>\n",
       "</table>\n",
       "</div>"
      ],
      "text/plain": [
       "  station_id                          name        lat        lon\n",
       "0       7000  Fort York  Blvd / Capreol Ct  43.639832 -79.395954\n",
       "1       7001     Wellesley Station Green P  43.664964 -79.383550\n",
       "2       7002    St. George St / Bloor St W  43.667333 -79.399429\n",
       "3       7003      Madison Ave / Bloor St W  43.667158 -79.402761\n",
       "4       7004       University Ave / Elm St  43.656518 -79.389099"
      ]
     },
     "execution_count": 31,
     "metadata": {},
     "output_type": "execute_result"
    }
   ],
   "source": [
    "col_name = ['station_id', 'name', 'lat', 'lon']\n",
    "station_id_type = {'station_id': 'string',}\n",
    "\n",
    "info = requests.get('https://tor.publicbikesystem.net/ube/gbfs/v1/en/station_information')\n",
    "stations_information = pd.DataFrame(json.loads(info.content)['data']['stations'])[col_name].astype(station_id_type)\n",
    "\n",
    "stations_information.head()"
   ]
  },
  {
   "cell_type": "code",
   "execution_count": 32,
   "id": "2719257b",
   "metadata": {},
   "outputs": [
    {
     "name": "stdout",
     "output_type": "stream",
     "text": [
      "<class 'pandas.core.frame.DataFrame'>\n",
      "RangeIndex: 670 entries, 0 to 669\n",
      "Data columns (total 4 columns):\n",
      " #   Column      Non-Null Count  Dtype  \n",
      "---  ------      --------------  -----  \n",
      " 0   station_id  670 non-null    string \n",
      " 1   name        670 non-null    object \n",
      " 2   lat         670 non-null    float64\n",
      " 3   lon         670 non-null    float64\n",
      "dtypes: float64(2), object(1), string(1)\n",
      "memory usage: 21.1+ KB\n"
     ]
    }
   ],
   "source": [
    "stations_information.info()"
   ]
  },
  {
   "cell_type": "markdown",
   "id": "b4e9bca2",
   "metadata": {},
   "source": [
    "Now we can merge the original `bikeshare_2022` dataset with the new `stations_information` dataset by *inner* join with the station ID as index."
   ]
  },
  {
   "cell_type": "code",
   "execution_count": 33,
   "id": "81a6c50b",
   "metadata": {
    "scrolled": false
   },
   "outputs": [],
   "source": [
    "bikeshare_2022_merged=bikeshare_2022_modified.merge(stations_information, how='inner', left_on='Start Station Id', right_on='station_id') \\\n",
    "                     .merge(stations_information, how='inner', left_on='End Station Id', right_on='station_id')"
   ]
  },
  {
   "cell_type": "code",
   "execution_count": 34,
   "id": "4f121b21",
   "metadata": {
    "scrolled": true
   },
   "outputs": [
    {
     "name": "stdout",
     "output_type": "stream",
     "text": [
      "<class 'pandas.core.frame.DataFrame'>\n",
      "Int64Index: 4160150 entries, 0 to 4160149\n",
      "Data columns (total 16 columns):\n",
      " #   Column            Dtype  \n",
      "---  ------            -----  \n",
      " 0   Trip Id           int64  \n",
      " 1   Trip  Duration    int64  \n",
      " 2   Start Station Id  string \n",
      " 3   Start Time        object \n",
      " 4   End Station Id    string \n",
      " 5   End Time          object \n",
      " 6   Bike Id           int64  \n",
      " 7   User Type         object \n",
      " 8   station_id_x      string \n",
      " 9   name_x            object \n",
      " 10  lat_x             float64\n",
      " 11  lon_x             float64\n",
      " 12  station_id_y      string \n",
      " 13  name_y            object \n",
      " 14  lat_y             float64\n",
      " 15  lon_y             float64\n",
      "dtypes: float64(4), int64(3), object(5), string(4)\n",
      "memory usage: 539.6+ MB\n"
     ]
    }
   ],
   "source": [
    "bikeshare_2022_merged.info()"
   ]
  },
  {
   "cell_type": "code",
   "execution_count": 35,
   "id": "29b5e1ed",
   "metadata": {
    "scrolled": false
   },
   "outputs": [
    {
     "data": {
      "text/html": [
       "<div>\n",
       "<style scoped>\n",
       "    .dataframe tbody tr th:only-of-type {\n",
       "        vertical-align: middle;\n",
       "    }\n",
       "\n",
       "    .dataframe tbody tr th {\n",
       "        vertical-align: top;\n",
       "    }\n",
       "\n",
       "    .dataframe thead th {\n",
       "        text-align: right;\n",
       "    }\n",
       "</style>\n",
       "<table border=\"1\" class=\"dataframe\">\n",
       "  <thead>\n",
       "    <tr style=\"text-align: right;\">\n",
       "      <th></th>\n",
       "      <th>Trip Id</th>\n",
       "      <th>Trip  Duration</th>\n",
       "      <th>Start Station Id</th>\n",
       "      <th>Start Time</th>\n",
       "      <th>End Station Id</th>\n",
       "      <th>End Time</th>\n",
       "      <th>Bike Id</th>\n",
       "      <th>User Type</th>\n",
       "      <th>station_id_x</th>\n",
       "      <th>name_x</th>\n",
       "      <th>lat_x</th>\n",
       "      <th>lon_x</th>\n",
       "      <th>station_id_y</th>\n",
       "      <th>name_y</th>\n",
       "      <th>lat_y</th>\n",
       "      <th>lon_y</th>\n",
       "    </tr>\n",
       "  </thead>\n",
       "  <tbody>\n",
       "    <tr>\n",
       "      <th>0</th>\n",
       "      <td>14805109</td>\n",
       "      <td>4335</td>\n",
       "      <td>7334</td>\n",
       "      <td>2022-01-01 00:02</td>\n",
       "      <td>7269</td>\n",
       "      <td>2022-01-01 01:15</td>\n",
       "      <td>5139</td>\n",
       "      <td>Casual Member</td>\n",
       "      <td>7334</td>\n",
       "      <td>Simcoe St / Wellington St W North</td>\n",
       "      <td>43.646218</td>\n",
       "      <td>-79.385505</td>\n",
       "      <td>7269</td>\n",
       "      <td>Toronto Eaton Centre (Yonge St) - SMART</td>\n",
       "      <td>43.655431</td>\n",
       "      <td>-79.380653</td>\n",
       "    </tr>\n",
       "    <tr>\n",
       "      <th>1</th>\n",
       "      <td>14805113</td>\n",
       "      <td>4256</td>\n",
       "      <td>7334</td>\n",
       "      <td>2022-01-01 00:04</td>\n",
       "      <td>7269</td>\n",
       "      <td>2022-01-01 01:15</td>\n",
       "      <td>4350</td>\n",
       "      <td>Casual Member</td>\n",
       "      <td>7334</td>\n",
       "      <td>Simcoe St / Wellington St W North</td>\n",
       "      <td>43.646218</td>\n",
       "      <td>-79.385505</td>\n",
       "      <td>7269</td>\n",
       "      <td>Toronto Eaton Centre (Yonge St) - SMART</td>\n",
       "      <td>43.655431</td>\n",
       "      <td>-79.380653</td>\n",
       "    </tr>\n",
       "    <tr>\n",
       "      <th>2</th>\n",
       "      <td>15225111</td>\n",
       "      <td>566</td>\n",
       "      <td>7334</td>\n",
       "      <td>2022-04-10 17:12</td>\n",
       "      <td>7269</td>\n",
       "      <td>2022-04-10 17:22</td>\n",
       "      <td>1310</td>\n",
       "      <td>Annual Member</td>\n",
       "      <td>7334</td>\n",
       "      <td>Simcoe St / Wellington St W North</td>\n",
       "      <td>43.646218</td>\n",
       "      <td>-79.385505</td>\n",
       "      <td>7269</td>\n",
       "      <td>Toronto Eaton Centre (Yonge St) - SMART</td>\n",
       "      <td>43.655431</td>\n",
       "      <td>-79.380653</td>\n",
       "    </tr>\n",
       "    <tr>\n",
       "      <th>3</th>\n",
       "      <td>15511493</td>\n",
       "      <td>418</td>\n",
       "      <td>7334</td>\n",
       "      <td>2022-05-06 17:14</td>\n",
       "      <td>7269</td>\n",
       "      <td>2022-05-06 17:21</td>\n",
       "      <td>3105</td>\n",
       "      <td>Casual Member</td>\n",
       "      <td>7334</td>\n",
       "      <td>Simcoe St / Wellington St W North</td>\n",
       "      <td>43.646218</td>\n",
       "      <td>-79.385505</td>\n",
       "      <td>7269</td>\n",
       "      <td>Toronto Eaton Centre (Yonge St) - SMART</td>\n",
       "      <td>43.655431</td>\n",
       "      <td>-79.380653</td>\n",
       "    </tr>\n",
       "    <tr>\n",
       "      <th>4</th>\n",
       "      <td>15679930</td>\n",
       "      <td>697</td>\n",
       "      <td>7334</td>\n",
       "      <td>2022-05-14 20:27</td>\n",
       "      <td>7269</td>\n",
       "      <td>2022-05-14 20:38</td>\n",
       "      <td>2049</td>\n",
       "      <td>Casual Member</td>\n",
       "      <td>7334</td>\n",
       "      <td>Simcoe St / Wellington St W North</td>\n",
       "      <td>43.646218</td>\n",
       "      <td>-79.385505</td>\n",
       "      <td>7269</td>\n",
       "      <td>Toronto Eaton Centre (Yonge St) - SMART</td>\n",
       "      <td>43.655431</td>\n",
       "      <td>-79.380653</td>\n",
       "    </tr>\n",
       "  </tbody>\n",
       "</table>\n",
       "</div>"
      ],
      "text/plain": [
       "    Trip Id  Trip  Duration Start Station Id        Start Time End Station Id  \\\n",
       "0  14805109            4335             7334  2022-01-01 00:02           7269   \n",
       "1  14805113            4256             7334  2022-01-01 00:04           7269   \n",
       "2  15225111             566             7334  2022-04-10 17:12           7269   \n",
       "3  15511493             418             7334  2022-05-06 17:14           7269   \n",
       "4  15679930             697             7334  2022-05-14 20:27           7269   \n",
       "\n",
       "           End Time  Bike Id      User Type station_id_x  \\\n",
       "0  2022-01-01 01:15     5139  Casual Member         7334   \n",
       "1  2022-01-01 01:15     4350  Casual Member         7334   \n",
       "2  2022-04-10 17:22     1310  Annual Member         7334   \n",
       "3  2022-05-06 17:21     3105  Casual Member         7334   \n",
       "4  2022-05-14 20:38     2049  Casual Member         7334   \n",
       "\n",
       "                              name_x      lat_x      lon_x station_id_y  \\\n",
       "0  Simcoe St / Wellington St W North  43.646218 -79.385505         7269   \n",
       "1  Simcoe St / Wellington St W North  43.646218 -79.385505         7269   \n",
       "2  Simcoe St / Wellington St W North  43.646218 -79.385505         7269   \n",
       "3  Simcoe St / Wellington St W North  43.646218 -79.385505         7269   \n",
       "4  Simcoe St / Wellington St W North  43.646218 -79.385505         7269   \n",
       "\n",
       "                                    name_y      lat_y      lon_y  \n",
       "0  Toronto Eaton Centre (Yonge St) - SMART  43.655431 -79.380653  \n",
       "1  Toronto Eaton Centre (Yonge St) - SMART  43.655431 -79.380653  \n",
       "2  Toronto Eaton Centre (Yonge St) - SMART  43.655431 -79.380653  \n",
       "3  Toronto Eaton Centre (Yonge St) - SMART  43.655431 -79.380653  \n",
       "4  Toronto Eaton Centre (Yonge St) - SMART  43.655431 -79.380653  "
      ]
     },
     "execution_count": 35,
     "metadata": {},
     "output_type": "execute_result"
    }
   ],
   "source": [
    "bikeshare_2022_merged.head()"
   ]
  },
  {
   "cell_type": "markdown",
   "id": "822d12cb",
   "metadata": {},
   "source": [
    "As the Id column is repeated, we will delete one of them as below."
   ]
  },
  {
   "cell_type": "code",
   "execution_count": 36,
   "id": "65cd90e0",
   "metadata": {},
   "outputs": [],
   "source": [
    "bikeshare_2022_merged = bikeshare_2022_merged.drop(columns = ['station_id_x', 'station_id_y'], axis=1)"
   ]
  },
  {
   "cell_type": "markdown",
   "id": "a02096ea",
   "metadata": {},
   "source": [
    "Then by coparing with the original Id data, we rename the `x` to the `Start` data column name and `y` to the `End` data column name as follow."
   ]
  },
  {
   "cell_type": "code",
   "execution_count": 37,
   "id": "d85749af",
   "metadata": {},
   "outputs": [],
   "source": [
    "rename_index = {\n",
    "    'name_x':'Start Station Name',\n",
    "    'lat_x':'Start Station lat',\n",
    "    'lon_x':'Start Station lon',\n",
    "    'name_y':'End Station Name',\n",
    "    'lat_y':'End Station lat',\n",
    "    'lon_y':'End Station lon',\n",
    "}\n",
    "\n",
    "bikeshare_2022_merged=bikeshare_2022_merged.rename(columns = rename_index)"
   ]
  },
  {
   "cell_type": "code",
   "execution_count": 38,
   "id": "b88edf42",
   "metadata": {},
   "outputs": [
    {
     "data": {
      "text/html": [
       "<div>\n",
       "<style scoped>\n",
       "    .dataframe tbody tr th:only-of-type {\n",
       "        vertical-align: middle;\n",
       "    }\n",
       "\n",
       "    .dataframe tbody tr th {\n",
       "        vertical-align: top;\n",
       "    }\n",
       "\n",
       "    .dataframe thead th {\n",
       "        text-align: right;\n",
       "    }\n",
       "</style>\n",
       "<table border=\"1\" class=\"dataframe\">\n",
       "  <thead>\n",
       "    <tr style=\"text-align: right;\">\n",
       "      <th></th>\n",
       "      <th>Trip Id</th>\n",
       "      <th>Trip  Duration</th>\n",
       "      <th>Start Station Id</th>\n",
       "      <th>Start Time</th>\n",
       "      <th>End Station Id</th>\n",
       "      <th>End Time</th>\n",
       "      <th>Bike Id</th>\n",
       "      <th>User Type</th>\n",
       "      <th>Start Station Name</th>\n",
       "      <th>Start Station lat</th>\n",
       "      <th>Start Station lon</th>\n",
       "      <th>End Station Name</th>\n",
       "      <th>End Station lat</th>\n",
       "      <th>End Station lon</th>\n",
       "    </tr>\n",
       "  </thead>\n",
       "  <tbody>\n",
       "    <tr>\n",
       "      <th>0</th>\n",
       "      <td>14805109</td>\n",
       "      <td>4335</td>\n",
       "      <td>7334</td>\n",
       "      <td>2022-01-01 00:02</td>\n",
       "      <td>7269</td>\n",
       "      <td>2022-01-01 01:15</td>\n",
       "      <td>5139</td>\n",
       "      <td>Casual Member</td>\n",
       "      <td>Simcoe St / Wellington St W North</td>\n",
       "      <td>43.646218</td>\n",
       "      <td>-79.385505</td>\n",
       "      <td>Toronto Eaton Centre (Yonge St) - SMART</td>\n",
       "      <td>43.655431</td>\n",
       "      <td>-79.380653</td>\n",
       "    </tr>\n",
       "    <tr>\n",
       "      <th>1</th>\n",
       "      <td>14805113</td>\n",
       "      <td>4256</td>\n",
       "      <td>7334</td>\n",
       "      <td>2022-01-01 00:04</td>\n",
       "      <td>7269</td>\n",
       "      <td>2022-01-01 01:15</td>\n",
       "      <td>4350</td>\n",
       "      <td>Casual Member</td>\n",
       "      <td>Simcoe St / Wellington St W North</td>\n",
       "      <td>43.646218</td>\n",
       "      <td>-79.385505</td>\n",
       "      <td>Toronto Eaton Centre (Yonge St) - SMART</td>\n",
       "      <td>43.655431</td>\n",
       "      <td>-79.380653</td>\n",
       "    </tr>\n",
       "    <tr>\n",
       "      <th>2</th>\n",
       "      <td>15225111</td>\n",
       "      <td>566</td>\n",
       "      <td>7334</td>\n",
       "      <td>2022-04-10 17:12</td>\n",
       "      <td>7269</td>\n",
       "      <td>2022-04-10 17:22</td>\n",
       "      <td>1310</td>\n",
       "      <td>Annual Member</td>\n",
       "      <td>Simcoe St / Wellington St W North</td>\n",
       "      <td>43.646218</td>\n",
       "      <td>-79.385505</td>\n",
       "      <td>Toronto Eaton Centre (Yonge St) - SMART</td>\n",
       "      <td>43.655431</td>\n",
       "      <td>-79.380653</td>\n",
       "    </tr>\n",
       "    <tr>\n",
       "      <th>3</th>\n",
       "      <td>15511493</td>\n",
       "      <td>418</td>\n",
       "      <td>7334</td>\n",
       "      <td>2022-05-06 17:14</td>\n",
       "      <td>7269</td>\n",
       "      <td>2022-05-06 17:21</td>\n",
       "      <td>3105</td>\n",
       "      <td>Casual Member</td>\n",
       "      <td>Simcoe St / Wellington St W North</td>\n",
       "      <td>43.646218</td>\n",
       "      <td>-79.385505</td>\n",
       "      <td>Toronto Eaton Centre (Yonge St) - SMART</td>\n",
       "      <td>43.655431</td>\n",
       "      <td>-79.380653</td>\n",
       "    </tr>\n",
       "    <tr>\n",
       "      <th>4</th>\n",
       "      <td>15679930</td>\n",
       "      <td>697</td>\n",
       "      <td>7334</td>\n",
       "      <td>2022-05-14 20:27</td>\n",
       "      <td>7269</td>\n",
       "      <td>2022-05-14 20:38</td>\n",
       "      <td>2049</td>\n",
       "      <td>Casual Member</td>\n",
       "      <td>Simcoe St / Wellington St W North</td>\n",
       "      <td>43.646218</td>\n",
       "      <td>-79.385505</td>\n",
       "      <td>Toronto Eaton Centre (Yonge St) - SMART</td>\n",
       "      <td>43.655431</td>\n",
       "      <td>-79.380653</td>\n",
       "    </tr>\n",
       "  </tbody>\n",
       "</table>\n",
       "</div>"
      ],
      "text/plain": [
       "    Trip Id  Trip  Duration Start Station Id        Start Time End Station Id  \\\n",
       "0  14805109            4335             7334  2022-01-01 00:02           7269   \n",
       "1  14805113            4256             7334  2022-01-01 00:04           7269   \n",
       "2  15225111             566             7334  2022-04-10 17:12           7269   \n",
       "3  15511493             418             7334  2022-05-06 17:14           7269   \n",
       "4  15679930             697             7334  2022-05-14 20:27           7269   \n",
       "\n",
       "           End Time  Bike Id      User Type  \\\n",
       "0  2022-01-01 01:15     5139  Casual Member   \n",
       "1  2022-01-01 01:15     4350  Casual Member   \n",
       "2  2022-04-10 17:22     1310  Annual Member   \n",
       "3  2022-05-06 17:21     3105  Casual Member   \n",
       "4  2022-05-14 20:38     2049  Casual Member   \n",
       "\n",
       "                  Start Station Name  Start Station lat  Start Station lon  \\\n",
       "0  Simcoe St / Wellington St W North          43.646218         -79.385505   \n",
       "1  Simcoe St / Wellington St W North          43.646218         -79.385505   \n",
       "2  Simcoe St / Wellington St W North          43.646218         -79.385505   \n",
       "3  Simcoe St / Wellington St W North          43.646218         -79.385505   \n",
       "4  Simcoe St / Wellington St W North          43.646218         -79.385505   \n",
       "\n",
       "                          End Station Name  End Station lat  End Station lon  \n",
       "0  Toronto Eaton Centre (Yonge St) - SMART        43.655431       -79.380653  \n",
       "1  Toronto Eaton Centre (Yonge St) - SMART        43.655431       -79.380653  \n",
       "2  Toronto Eaton Centre (Yonge St) - SMART        43.655431       -79.380653  \n",
       "3  Toronto Eaton Centre (Yonge St) - SMART        43.655431       -79.380653  \n",
       "4  Toronto Eaton Centre (Yonge St) - SMART        43.655431       -79.380653  "
      ]
     },
     "execution_count": 38,
     "metadata": {},
     "output_type": "execute_result"
    }
   ],
   "source": [
    "bikeshare_2022_merged.head()"
   ]
  },
  {
   "cell_type": "markdown",
   "id": "5ae995ac",
   "metadata": {},
   "source": [
    "Finally, we can output the data to a *csv* file and the can process the analyze and data visualization by **Tableau**."
   ]
  },
  {
   "cell_type": "code",
   "execution_count": 39,
   "id": "5d28f2ec",
   "metadata": {},
   "outputs": [],
   "source": [
    "newpath = \"/Users/michaelfong/Desktop/Bikeshare analysis\"\n",
    "bikeshare_2022_merged.to_csv(newpath+\"/bikeshare_2022_merged.csv\")"
   ]
  },
  {
   "cell_type": "markdown",
   "id": "f9d47ee7",
   "metadata": {},
   "source": [
    "## Analyze and Share:"
   ]
  },
  {
   "cell_type": "markdown",
   "id": "1e8c9747",
   "metadata": {},
   "source": [
    "A __[dashboard](https://public.tableau.com/views/TorontoBikeShareAnalysis2022/Dashboard1?:language=en-US&:display_count=n&:origin=viz_share_link)__ is made by Tableau to show the data analysis result by Tableau."
   ]
  },
  {
   "cell_type": "markdown",
   "id": "ca1e1141",
   "metadata": {},
   "source": [
    "From the dashboard, we can conlude the following:\n",
    "1. Casual riders are more than annual members in total. Ridership is higher in summer normally. However, in winter with snow, the rides of annual members were higher than casual riders. For all the other time among the year, casual riders used share bikes more than annual members.\n",
    "2. Annual members used share bikes more on weekday. Vice versa, casual riders used share bikes more on weekends.\n",
    "3. Average trip duration were from 500s to 1000s for annual members. However, average trip duration for casual members were longer from 800s to 1500s. This observation is not affected by month.\n",
    "4. For number of trips accoring to hours, we can observe two peaks on 8 o'clock and 15 o'clock on weekday which is the peak hours to work no matter for annual member and casual member. On weekends, we can observe that there was a higher using rate between 11 o'clock to 20 o'clock for all users.\n",
    "5. From the top 10 station, we could observe that ridership is concentrated within the downtown.\n",
    "6. By choosing the annual member or casual member in dashboard, we could observe that annual member's top 10 start and end stations were within downtown among the office area. However, casual member top 10 start stations were nearby the TTC stations and top 10 end stations were nearby waterfront."
   ]
  },
  {
   "cell_type": "markdown",
   "id": "357055a2",
   "metadata": {},
   "source": [
    "## Act:"
   ]
  },
  {
   "cell_type": "markdown",
   "id": "1acc7e2b",
   "metadata": {},
   "source": [
    "In order to imporve the data analysis, there are some restrictions for the data that we recommend to improve in the future:\n",
    "\n",
    "    - missing data for station Id and Bike Id shall be resolved\n",
    "    - obtain the age group for annual members and casual riders if possible\n",
    "    - collect the data of bike lane for route patterns \n",
    "\n",
    "The following is our summary of findings to answer the three questions:\n",
    "1. How do annual members and casual riders use share bikes differently?\n",
    "\n",
    "    Annual members used for travel to work rather than casual riders used for leisure. We can observed that there were still steady number of ride trips even on winter for annual members but less rides for casual riders.\n",
    "    \n",
    "    \n",
    "2. Why would casual riders buy annual memberships?\n",
    "\n",
    "    As annunal member usually rided for work. It is diffcult to persuade casual riders which used for leisure to by annual memberships as that is no use for them in the winter due to heavy snow. Therefore, we recommend to provide \"Half-year membership\" within May to October or \"Summer pass\" from July to August in order to attract more people to join a membership first. After their membership period ended, we could provided special offer or promotion offer for them to join the annual membership afterwards.\n",
    "    \n",
    "    \n",
    "3. How can the company use digital media to influence casual riders to become members?\n",
    "\n",
    "    There are three menthods we suggested:\n",
    "    - Install small montiors with solar power supply panels on top used stations and create compelling social media campaigns highlghting the benefits of membership, such as discounts and unlimited access to bikes to pique the interest of casual rider. Every time the casual ride have a rider, they could receive the information form the montiors.\n",
    "    - Utilize targeted online advertising on platforms like Facebook, Istagram, Youtube and also public transport platform like TTC and Go train to reach potntial members effectively\n",
    "    - Implement a digital referral program to reward current members for referring new members besides the corportate membership program."
   ]
  },
  {
   "cell_type": "markdown",
   "id": "de736d32",
   "metadata": {},
   "source": [
    "## Thank you for reading my project! "
   ]
  }
 ],
 "metadata": {
  "kernelspec": {
   "display_name": "Python 3 (ipykernel)",
   "language": "python",
   "name": "python3"
  },
  "language_info": {
   "codemirror_mode": {
    "name": "ipython",
    "version": 3
   },
   "file_extension": ".py",
   "mimetype": "text/x-python",
   "name": "python",
   "nbconvert_exporter": "python",
   "pygments_lexer": "ipython3",
   "version": "3.9.12"
  }
 },
 "nbformat": 4,
 "nbformat_minor": 5
}
